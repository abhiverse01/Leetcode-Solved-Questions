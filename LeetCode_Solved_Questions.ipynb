{
  "nbformat": 4,
  "nbformat_minor": 0,
  "metadata": {
    "colab": {
      "provenance": [],
      "authorship_tag": "ABX9TyMQXQMid3e2j/vU/viVo8ZK",
      "include_colab_link": true
    },
    "kernelspec": {
      "name": "python3",
      "display_name": "Python 3"
    },
    "language_info": {
      "name": "python"
    }
  },
  "cells": [
    {
      "cell_type": "markdown",
      "metadata": {
        "id": "view-in-github",
        "colab_type": "text"
      },
      "source": [
        "<a href=\"https://colab.research.google.com/github/abhiverse01/Leetcode-Solved-Questions/blob/main/LeetCode_Solved_Questions.ipynb\" target=\"_parent\"><img src=\"https://colab.research.google.com/assets/colab-badge.svg\" alt=\"Open In Colab\"/></a>"
      ]
    },
    {
      "cell_type": "markdown",
      "source": [
        "# LeetCode-Solved-Questions\n",
        "\n",
        "This colab notebook a compilation of all the leetcode questions that I solved throughout my leetcode journey along with the solutions. I have compiled the questions as well as my code solutions for anyone looking for a reference.\n",
        "\n",
        "## Owner: **Abhishek Shah**\n",
        "\n",
        "### Mail me at: www.abhishekshah007@gmail.com\n",
        "\n",
        "### Portfolio: www.abhishekshah.vercel.app\n",
        "\n",
        "### Resume: www.abhishekshahhtmlresume.vercel.app"
      ],
      "metadata": {
        "id": "MsBJD6St_xbs"
      }
    },
    {
      "cell_type": "markdown",
      "source": [
        "# Q1: Two Sum\n",
        "Given an array of integers nums and an integer target, return indices of the two numbers such that they add up to target.\n",
        "\n",
        "You may assume that each input would have exactly one solution, and you may not use the same element twice.\n",
        "\n",
        "You can return the answer in any order.\n",
        "\n",
        "**Example 1:**\n",
        "> Input: nums = [2,7,11,15], target = 9\n",
        "\n",
        "> Output: [0,1]\n",
        "\n",
        ">Explanation: Because nums[0] + nums[1] == 9, we return [0, 1].\n",
        "\n",
        "**Example 2:**\n",
        "> Input: nums = [3,2,4], target = 6\n",
        "\n",
        "> Output: [1,2]\n",
        "\n",
        "**Example 3:**\n",
        "\n",
        "> Input: nums = [3,3], target = 6\n",
        "\n",
        "> Output: [0,1]"
      ],
      "metadata": {
        "id": "znOH-GMg-90D"
      }
    },
    {
      "cell_type": "code",
      "execution_count": 1,
      "metadata": {
        "id": "wwJLpkgf8YAo"
      },
      "outputs": [],
      "source": [
        "# Brute Force Method - Time Complexity: O(n^2)\n",
        "\n",
        "class Solution(object):\n",
        "    def twoSum(self, nums, target):\n",
        "        for i in range(len(nums)): # i iterates from 0 to length of the array, nums.\n",
        "            for j in range(i+1, len(nums)): # j iterates from i+1 to length of the array, nums.\n",
        "                if nums[i] + nums[j] == target:\n",
        "                    return [i, j]\n",
        "\n",
        "\n",
        "# Hash Map Method - Time Complexity: O(n)\n",
        "\n",
        "class Solution(object):\n",
        "    def twoSum(self, nums, target):\n",
        "        # initializing an empty hash map\n",
        "        num_to_index = {}\n",
        "        # iterate through each element in the array\n",
        "        for i, num in enumerate(nums):\n",
        "            # calculating the complement of the current element\n",
        "            complement = target - num\n",
        "            # now checking if the complement is in the hash map\n",
        "            if complement in num_to_index:\n",
        "                return[num_to_index[complement], i]\n",
        "            # also, add the current element and its index to the hash map\n",
        "            num_to_index[num] = i\n",
        "\n"
      ]
    },
    {
      "cell_type": "markdown",
      "source": [
        "# Q2. Sort Colors\n",
        "\n",
        "Given an array nums with n objects colored red, white, or blue, sort them in-place so that objects of the same color are adjacent, with the colors in the order red, white, and blue.\n",
        "\n",
        "We will use the integers 0, 1, and 2 to represent the color red, white, and blue, respectively.\n",
        "\n",
        "You must solve this problem without using the library's sort function.\n",
        "\n",
        "**Example 1:**\n",
        "\n",
        "> Input: nums = [2,0,2,1,1,0]\n",
        "\n",
        "> Output: [0,0,1,1,2,2]\n",
        "\n",
        "**Example 2:**\n",
        "\n",
        "> Input: nums = [2,0,1]\n",
        "\n",
        "> Output: [0,1,2]\n",
        "\n"
      ],
      "metadata": {
        "id": "PBZGDDl6Fld6"
      }
    },
    {
      "cell_type": "code",
      "source": [
        "# Sorting colors using pointers method - Time Complexity: O(n)\n",
        "\n",
        "class Solution(object):\n",
        "    def sortColors(self, nums):\n",
        "        low, mid, high = 0, 0, len(nums) -1 # We take three pointers low, medium and high with values 0, 0 and lenght of array - 1 respectively.\n",
        "\n",
        "        while mid <= high: # Here, as long as the value of mid counter is less than or equal to high counter.\n",
        "            if nums[mid] == 0: # If number in the mid is 0, it should belong to the beginning.\n",
        "                nums[low], nums[mid] = nums[mid], nums[low] # So, here we swap the low with mid and mid with low.\n",
        "                low += 1 # Now, we increment both the counter by 1\n",
        "                mid += 1\n",
        "            elif nums[mid] == 1: # Now, if the number in the mid is already 1; which means it's already at the right place. So, no need to swap, we just increment the counter by 1\n",
        "                mid += 1\n",
        "\n",
        "            else:\n",
        "                nums[high], nums[mid] = nums[mid], nums[high] # Also, in the similar scenario, number in the middle could be larger than the end ones. So, we need to swap them as well.\n",
        "                high-=1 # And, we then decrement the highest counter by 1.\n",
        ""
      ],
      "metadata": {
        "id": "vEXTDf_Q-qPh"
      },
      "execution_count": null,
      "outputs": []
    }
  ]
}