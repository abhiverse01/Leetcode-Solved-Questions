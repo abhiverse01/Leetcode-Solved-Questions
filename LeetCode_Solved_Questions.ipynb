{
  "nbformat": 4,
  "nbformat_minor": 0,
  "metadata": {
    "colab": {
      "provenance": [],
      "authorship_tag": "ABX9TyP4xfHQjpTFdjkTcscF2rm4",
      "include_colab_link": true
    },
    "kernelspec": {
      "name": "python3",
      "display_name": "Python 3"
    },
    "language_info": {
      "name": "python"
    }
  },
  "cells": [
    {
      "cell_type": "markdown",
      "metadata": {
        "id": "view-in-github",
        "colab_type": "text"
      },
      "source": [
        "<a href=\"https://colab.research.google.com/github/abhiverse01/Leetcode-Solved-Questions/blob/main/LeetCode_Solved_Questions.ipynb\" target=\"_parent\"><img src=\"https://colab.research.google.com/assets/colab-badge.svg\" alt=\"Open In Colab\"/></a>"
      ]
    },
    {
      "cell_type": "markdown",
      "source": [
        "# LeetCode-Solved-Questions\n",
        "\n",
        "This colab notebook a compilation of all the leetcode questions that I solved throughout my leetcode journey along with the solutions. I have compiled the questions as well as my code solutions for anyone looking for a reference.\n",
        "\n",
        "Owner: **Abhishek Shah**\n",
        "\n",
        "Mail me at: www.abhishekshah007@gmail.com\n",
        "\n",
        "Portfolio: www.abhishekshah.vercel.app\n",
        "\n",
        "Resume: www.abhishekshahhtmlresume.vercel.app"
      ],
      "metadata": {
        "id": "MsBJD6St_xbs"
      }
    },
    {
      "cell_type": "markdown",
      "source": [
        "# Q1: Two Sum\n",
        "Given an array of integers nums and an integer target, return indices of the two numbers such that they add up to target.\n",
        "\n",
        "You may assume that each input would have exactly one solution, and you may not use the same element twice.\n",
        "\n",
        "You can return the answer in any order.\n",
        "\n",
        "**Example 1:**\n",
        "> Input: nums = [2,7,11,15], target = 9\n",
        "\n",
        "> Output: [0,1]\n",
        "\n",
        ">Explanation: Because nums[0] + nums[1] == 9, we return [0, 1].\n",
        "\n",
        "**Example 2:**\n",
        "> Input: nums = [3,2,4], target = 6\n",
        "\n",
        "> Output: [1,2]\n",
        "\n",
        "**Example 3:**\n",
        "\n",
        "> Input: nums = [3,3], target = 6\n",
        "\n",
        "> Output: [0,1]"
      ],
      "metadata": {
        "id": "znOH-GMg-90D"
      }
    },
    {
      "cell_type": "code",
      "execution_count": null,
      "metadata": {
        "id": "wwJLpkgf8YAo"
      },
      "outputs": [],
      "source": [
        "# Brute Force Method - Time Complexity: O(n^2)\n",
        "\n",
        "class Solution(object):\n",
        "    def twoSum(self, nums, target):\n",
        "        for i in range(len(nums)): # i iterates from 0 to length of the array, nums.\n",
        "            for j in range(i+1, len(nums)): # j iterates from i+1 to length of the array, nums.\n",
        "                if nums[i] + nums[j] == target:\n",
        "                    return [i, j]\n",
        "\n",
        "\n",
        "# Hash Map Method - Time Complexity: O(n)\n",
        "\n",
        "class Solution(object):\n",
        "    def twoSum(self, nums, target):\n",
        "        # initializing an empty hash map\n",
        "        num_to_index = {}\n",
        "        # iterate through each element in the array\n",
        "        for i, num in enumerate(nums):\n",
        "            # calculating the complement of the current element\n",
        "            complement = target - num\n",
        "            # now checking if the complement is in the hash map\n",
        "            if complement in num_to_index:\n",
        "                return[num_to_index[complement], i]\n",
        "            # also, add the current element and its index to the hash map\n",
        "            num_to_index[num] = i\n",
        "\n"
      ]
    },
    {
      "cell_type": "markdown",
      "source": [
        "# Q2. Sort Colors\n",
        "\n",
        "Given an array nums with n objects colored red, white, or blue, sort them in-place so that objects of the same color are adjacent, with the colors in the order red, white, and blue.\n",
        "\n",
        "We will use the integers 0, 1, and 2 to represent the color red, white, and blue, respectively.\n",
        "\n",
        "You must solve this problem without using the library's sort function.\n",
        "\n",
        "**Example 1:**\n",
        "\n",
        "> Input: nums = [2,0,2,1,1,0]\n",
        "\n",
        "> Output: [0,0,1,1,2,2]\n",
        "\n",
        "**Example 2:**\n",
        "\n",
        "> Input: nums = [2,0,1]\n",
        "\n",
        "> Output: [0,1,2]\n",
        "\n"
      ],
      "metadata": {
        "id": "PBZGDDl6Fld6"
      }
    },
    {
      "cell_type": "code",
      "source": [
        "# Sorting colors using pointers method - Time Complexity: O(n)\n",
        "\n",
        "class Solution(object):\n",
        "    def sortColors(self, nums):\n",
        "        low, mid, high = 0, 0, len(nums) -1 # We take three pointers low, medium and high with values 0, 0 and lenght of array - 1 respectively.\n",
        "\n",
        "        while mid <= high: # Here, as long as the value of mid counter is less than or equal to high counter.\n",
        "            if nums[mid] == 0: # If number in the mid is 0, it should belong to the beginning.\n",
        "                nums[low], nums[mid] = nums[mid], nums[low] # So, here we swap the low with mid and mid with low.\n",
        "                low += 1 # Now, we increment both the counter by 1\n",
        "                mid += 1\n",
        "            elif nums[mid] == 1: # Now, if the number in the mid is already 1; which means it's already at the right place. So, no need to swap, we just increment the counter by 1\n",
        "                mid += 1\n",
        "\n",
        "            else:\n",
        "                nums[high], nums[mid] = nums[mid], nums[high] # Also, in the similar scenario, number in the middle could be larger than the end ones. So, we need to swap them as well.\n",
        "                high-=1 # And, we then decrement the highest counter by 1.\n"
      ],
      "metadata": {
        "id": "vEXTDf_Q-qPh"
      },
      "execution_count": null,
      "outputs": []
    },
    {
      "cell_type": "markdown",
      "source": [
        "# Q 3. Minimum Number of Seats to move everyone\n",
        "There are n seats and n students in a room. You are given an array seats of length n, where seats[i] is the position of the ith seat. You are also given the array students of length n, where students[j] is the position of the jth student.\n",
        "\n",
        "You may perform the following move any number of times:\n",
        "\n",
        "Increase or decrease the position of the ith student by 1 (i.e., moving the ith student from position x to x + 1 or x - 1)\n",
        "\n",
        "Return the minimum number of moves required to move each student to a seat such that no two students are in the same seat.\n",
        "\n",
        "*Note that there may be multiple seats or students in the same position at the beginning.*\n",
        "\n",
        "**Example 1:**\n",
        "\n",
        "> Input: seats = [3,1,5], students = [2,7,4]\n",
        "\n",
        "> Output: 4\n",
        "\n",
        "> Explanation: The students are moved as follows:\n",
        "- The first student is moved from from position 2 to position 1 using 1 move.\n",
        "- The second student is moved from from position 7 to position 5 using 2 moves.\n",
        "- The third student is moved from from position 4 to position 3 using 1 move.\n",
        "\n",
        "> In total, 1 + 2 + 1 = 4 moves were used.\n",
        "\n",
        "**Example 2:**\n",
        "\n",
        "> Input: seats = [4,1,5,9], students = [1,3,2,6]\n",
        "\n",
        "> Output: 7\n",
        "\n",
        "> Explanation:\n",
        "\n",
        "The students are moved as follows:\n",
        "- The first student is not moved.\n",
        "- The second student is moved from from position 3 to position 4 using 1 move.\n",
        "- The third student is moved from from position 2 to position 5 using 3 moves.\n",
        "- The fourth student is moved from from position 6 to position 9 using 3 moves.\n",
        "\n",
        "> In total, 0 + 1 + 3 + 3 = 7 moves were used.\n",
        "\n",
        "**Example 3:**\n",
        "\n",
        "> Input: seats = [2,2,6,6], students = [1,3,2,6]\n",
        "\n",
        "> Output: 4\n",
        "\n",
        "> Explanation:\n",
        "\n",
        "Note that there are two seats at position 2 and two seats at position 6.\n",
        "The students are moved as follows:\n",
        "- The first student is moved from from position 1 to position 2 using 1 move.\n",
        "- The second student is moved from from position 3 to position 6 using 3 moves.\n",
        "- The third student is not moved.\n",
        "- The fourth student is not moved.\n",
        "\n",
        "> In total, 1 + 3 + 0 + 0 = 4 moves were used."
      ],
      "metadata": {
        "id": "RXu84MdFq-RL"
      }
    },
    {
      "cell_type": "code",
      "source": [
        "# Here's my solution for this leetcode question - Time Complexity O(n)\n",
        "\n",
        "class Solution(object):\n",
        "    def minMovesToSeat(self, seats, students):\n",
        "        seats.sort() # sorting seats in an ascending order\n",
        "        students.sort() # sorting students array in an ascending order as well\n",
        "        total_moves = 0 # initially total moves should be zero\n",
        "        for i in range(len(students)):\n",
        "            total_moves += abs(students[i]-seats[i]) # sometimes the numbers in seats array could be larger. So, absolute values in taken when adding to the total number of moves.\n",
        "        return total_moves\n",
        "\n",
        "\n"
      ],
      "metadata": {
        "id": "N9UnJpI9ryJb"
      },
      "execution_count": 2,
      "outputs": []
    },
    {
      "cell_type": "code",
      "source": [
        "\n"
      ],
      "metadata": {
        "id": "igjzw4fjr3GR"
      },
      "execution_count": null,
      "outputs": []
    }
  ]
}